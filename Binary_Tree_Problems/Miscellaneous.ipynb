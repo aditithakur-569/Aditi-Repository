{
 "cells": [
  {
   "cell_type": "code",
   "execution_count": null,
   "metadata": {},
   "outputs": [],
   "source": [
    "## Start date: 10th Feb"
   ]
  },
  {
   "cell_type": "code",
   "execution_count": 62,
   "metadata": {},
   "outputs": [
    {
     "name": "stdout",
     "output_type": "stream",
     "text": [
      "14 \n",
      "2 7 \n",
      "3 18 9 -1 \n",
      "90 78 6 66 \n",
      "\n",
      "varL: deque([90, 78, 18, 9, 6, 66]) var: deque([-1, 7, 3, 2, 14])\n"
     ]
    },
    {
     "data": {
      "text/plain": [
       "6"
      ]
     },
     "execution_count": 62,
     "metadata": {},
     "output_type": "execute_result"
    }
   ],
   "source": [
    "## Calculate diameter of the binary tree...(start-end: 10th Feb- 11th Feb)\n",
    "## Print the longest leaf to leaf path in a Binary tree.(start-end: 10th Feb- 11th Feb)\n",
    "from collections import deque\n",
    "import queue\n",
    "class Node():\n",
    "    \n",
    "    def __init__(self,data):\n",
    "        self.data = data\n",
    "        self.LeftChild = None\n",
    "        self.RightChild = None\n",
    "                       \n",
    "def level_order_traversal(root):\n",
    "        \n",
    "        q = queue.Queue()\n",
    "        q.put(root)\n",
    "        q.put(None)\n",
    "        \n",
    "        while q.qsize() > 1:\n",
    "            \n",
    "            temp = q.get()\n",
    "            if temp != None:\n",
    "                print(temp.data,end= \" \")\n",
    "                if temp.LeftChild:\n",
    "                    q.put(temp.LeftChild)\n",
    "\n",
    "                if temp.RightChild:\n",
    "                    q.put(temp.RightChild)\n",
    "            else:\n",
    "                q.put(None)\n",
    "                print(end='\\n')\n",
    "                \n",
    "def diameter(root,d):\n",
    "    #diameter\n",
    "    d = [0]\n",
    "    \n",
    "    varL = deque() \n",
    "    var = deque()\n",
    "    cal_diameter(root,d,varL,var)\n",
    "    print(\"varL:\",varL,\"var:\",var)\n",
    "    \n",
    "    return d[0]\n",
    "    \n",
    "def cal_diameter(root,d,varL,var):\n",
    "    \n",
    " \n",
    "    if root == None:\n",
    "        return -1\n",
    "    if root.LeftChild == None and root.RightChild == None:\n",
    "        varL.append(root.data)\n",
    "       # print(\"leaf-nodes:\",varL)\n",
    "    else:\n",
    "        var.appendleft(root.data)\n",
    "    \n",
    "    lh = cal_diameter(root.LeftChild,d,varL,var)\n",
    "    rh = cal_diameter(root.RightChild,d,varL,var)\n",
    "   \n",
    "    #print(\"root:\",root.data,\"var:\",var)\n",
    "    d[0] = max(d[0],lh + rh + 2)\n",
    "    #var.appendleft(root.data)\n",
    "    #print(\"root:\",root.data,\"var:\",var)\n",
    "\n",
    "    return max(lh,rh) + 1\n",
    "\n",
    "\n",
    "   \n",
    "\n",
    "\n",
    "root1 = Node(14) \n",
    "root1.LeftChild = Node(2) \n",
    "root1.RightChild = Node(7) \n",
    "root1.LeftChild.LeftChild = Node(3) \n",
    "root1.LeftChild.RightChild = Node(18)\n",
    "root1.LeftChild.LeftChild.LeftChild = Node(90)\n",
    "root1.LeftChild.LeftChild.RightChild = Node(78)\n",
    "root1.RightChild.LeftChild = Node(9)\n",
    "root1.RightChild.RightChild = Node(-1)\n",
    "root1.RightChild.RightChild.LeftChild = Node(6)\n",
    "root1.RightChild.RightChild.RightChild = Node(66)\n",
    "level_order_traversal(root1)\n",
    "print(\"\\n\")\n",
    "\n",
    "diameter(root1,d)\n",
    "\n"
   ]
  },
  {
   "cell_type": "code",
   "execution_count": null,
   "metadata": {},
   "outputs": [],
   "source": []
  },
  {
   "cell_type": "code",
   "execution_count": null,
   "metadata": {},
   "outputs": [],
   "source": [
    "    def isUnivalTree(self, root: TreeNode) -> bool:\n",
    "        \n",
    "        if root == None:\n",
    "            return False\n",
    "        \n",
    "        data = root.val\n",
    "        return (self.check_the_value(root.left,data) and self.check_the_value(root.right,data))\n",
    "        \n",
    "    def check_the_value(self,root,data):\n",
    "        \n",
    "        if root == None:\n",
    "            return True\n",
    "        if root.val != data:\n",
    "            return False\n",
    "        else:\n",
    "            self.check_the_value(root.left,data)\n",
    "            self.check_the_value(root.right,data)\n",
    "            return True"
   ]
  }
 ],
 "metadata": {
  "kernelspec": {
   "display_name": "Python 3",
   "language": "python",
   "name": "python3"
  },
  "language_info": {
   "codemirror_mode": {
    "name": "ipython",
    "version": 3
   },
   "file_extension": ".py",
   "mimetype": "text/x-python",
   "name": "python",
   "nbconvert_exporter": "python",
   "pygments_lexer": "ipython3",
   "version": "3.6.8"
  }
 },
 "nbformat": 4,
 "nbformat_minor": 2
}
