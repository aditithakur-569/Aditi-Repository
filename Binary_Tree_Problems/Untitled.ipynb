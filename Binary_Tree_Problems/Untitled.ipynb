{
 "cells": [
  {
   "cell_type": "code",
   "execution_count": 57,
   "metadata": {},
   "outputs": [
    {
     "name": "stdout",
     "output_type": "stream",
     "text": [
      "flag: False front: 1\n",
      "flag: True front: 2\n",
      "i am here 2 flag: True\n",
      "The given binary tree is not a complete binary tree\n"
     ]
    }
   ],
   "source": [
    "from collections import deque\n",
    " \n",
    " \n",
    "# A class to store a binary tree node\n",
    "class Node:\n",
    "    def __init__(self, key=None, left=None, right=None):\n",
    " \n",
    "        self.key = key\n",
    "        self.left = left\n",
    "        self.right = right\n",
    "\n",
    "\n",
    "def isComplete(root):\n",
    " \n",
    "    # return if the tree is empty\n",
    "    if root is None:\n",
    "        return False\n",
    " \n",
    "    # create an empty queue and enqueue the root node\n",
    "    queue = deque()\n",
    "    queue.append(root)\n",
    " \n",
    "    # flag to mark the end of full nodes\n",
    "    flag = False\n",
    " \n",
    "    # loop till queue is empty\n",
    "    while queue:\n",
    " \n",
    "        # dequeue front node\n",
    "        front = queue.popleft()\n",
    " \n",
    "        # if we have encountered a non-full node before and the current node\n",
    "        # is not a leaf, a tree cannot be complete\n",
    "        print(\"flag:\",flag,\"front:\",front.key)\n",
    "        if flag and (front.left !=None or front.right!=None):\n",
    "            print(\"i am here\",front.key,\"flag:\",flag)\n",
    "            return False\n",
    " \n",
    "        # if the left child is empty and the right child exists,\n",
    "        # a tree cannot be complete\n",
    "        if front.left is None and front.right:\n",
    "            return False\n",
    " \n",
    "        # if the left child exists, enqueue it\n",
    "        if front.left:\n",
    "            queue.append(front.left)\n",
    " \n",
    "        # if the current node is a non-full node, set the flag to true\n",
    "        else:\n",
    "            flag = True\n",
    " \n",
    "        # if the right child exists, enqueue it\n",
    "        if front.right:\n",
    "            queue.append(front.right)\n",
    " \n",
    "        # if the current node is a non-full node, set the flag to true\n",
    "        else:\n",
    "            flag = True\n",
    " \n",
    "    return True\n",
    "\n",
    "\n",
    " \n",
    "if __name__ == '__main__':\n",
    " \n",
    " \n",
    "    root = Node(1)\n",
    "    root.left = Node(2)\n",
    "    #root.right = Node(3)\n",
    "    root.left.left = Node(4)\n",
    "    #root.left.right = Node(5)\n",
    "    #root.right.left = Node(6)\n",
    "    #root.right.right = Node(7)\n",
    " \n",
    "    if isComplete(root):\n",
    "        print(\"The given binary tree is a complete binary tree\")\n",
    "    else:\n",
    "        print(\"The given binary tree is not a complete binary tree\")"
   ]
  },
  {
   "cell_type": "code",
   "execution_count": 59,
   "metadata": {},
   "outputs": [
    {
     "name": "stdout",
     "output_type": "stream",
     "text": [
      "deque([8, 9])\n"
     ]
    }
   ],
   "source": [
    "import queue\n",
    "\n",
    "q = queue.Queue()\n",
    "q.put(8)\n",
    "q.put(9)\n",
    "print(q.queue)"
   ]
  },
  {
   "cell_type": "code",
   "execution_count": 105,
   "metadata": {},
   "outputs": [
    {
     "name": "stdout",
     "output_type": "stream",
     "text": [
      "Yes\n"
     ]
    }
   ],
   "source": [
    "class Node: \n",
    "    def __init__(self, data): \n",
    "        self.data = data \n",
    "        self.left = None\n",
    "        self.right = None\n",
    "  \n",
    "# Given two trees, return true  \n",
    "# if they are mirror of each other \n",
    "def areMirror(a, b): \n",
    "      \n",
    "    # Base case : Both empty \n",
    "    if a is None and b is None: \n",
    "        return True\n",
    "      \n",
    "    # If only one is empty \n",
    "    if a is None or b is None: \n",
    "        return False\n",
    "      \n",
    "    # Both non-empty, compare them  \n",
    "    # recursively. Note that in  \n",
    "    # recursive calls, we pass left \n",
    "    # of one tree and right of other tree \n",
    "    return (a.data == b.data and \n",
    "            areMirror(a.left, b.right) and \n",
    "            areMirror(a.right , b.left)) \n",
    "  \n",
    "# Driver code \n",
    "root1 = Node(1) \n",
    "root2 = Node(1) \n",
    "  \n",
    "root1.left = Node(2) \n",
    "root1.right = Node(3) \n",
    "root1.left.left = Node(4) \n",
    "root1.left.right = Node(5) \n",
    "  \n",
    "root2.left = Node(3) \n",
    "root2.right = Node(2) \n",
    "root2.right.left = Node(5) \n",
    "root2.right.right = Node(4) \n",
    "  \n",
    "if areMirror(root1, root2): \n",
    "    print (\"Yes\") \n",
    "else: \n",
    "    print (\"No\") "
   ]
  },
  {
   "cell_type": "code",
   "execution_count": 101,
   "metadata": {},
   "outputs": [
    {
     "name": "stdout",
     "output_type": "stream",
     "text": [
      "OrderedDict([('a', [5]), ('b', [2]), ('c', [1]), ('d', [7]), ('e', [3])])\n",
      "[2]\n",
      "OrderedDict([('a', [5]), ('c', [1]), ('d', [7]), ('e', [3]), ('b', [2])])\n"
     ]
    }
   ],
   "source": [
    "from collections import OrderedDict\n",
    "\n",
    "d = OrderedDict()\n",
    "d[\"a\"] = [5]\n",
    "d[\"b\"] = [2]\n",
    "d[\"c\"] = [1]\n",
    "d[\"d\"] = [7]\n",
    "d[\"e\"] = [3]\n",
    "print(d)\n",
    "#x = d.get(\"a\")\n",
    "#d.popitem(last = False)\n",
    "#print(d)\n",
    "if \"b\" in d:\n",
    "    print(d[\"b\"])\n",
    "    x = d.pop(\"b\")\n",
    "    d[\"b\"] = x\n",
    "print(d)"
   ]
  },
  {
   "cell_type": "code",
   "execution_count": 129,
   "metadata": {},
   "outputs": [
    {
     "name": "stdout",
     "output_type": "stream",
     "text": [
      "OrderedDict([('a', [[1, 8]]), ('b', [-1, 2]), ('c', [-1, 3])])\n",
      "OrderedDict([('a', [[1, 8], [1, 9]]), ('b', [-1, 2]), ('c', [-1, 3])])\n"
     ]
    }
   ],
   "source": [
    "from collections import OrderedDict\n",
    "dd = OrderedDict()\n",
    "dd['a']= [[1,8]]\n",
    "dd[\"b\"]= [-1,2]\n",
    "dd[\"c\"] = [-1,3]\n",
    "print(dd)\n",
    "if \"a\" in dd:\n",
    "    dd[\"a\"].append([1,9])\n",
    "    \n",
    "    \n",
    "print(dd)"
   ]
  },
  {
   "cell_type": "code",
   "execution_count": 150,
   "metadata": {},
   "outputs": [
    {
     "name": "stdout",
     "output_type": "stream",
     "text": [
      "<class 'dict'>\n",
      "[3, 90]\n",
      "[2, 3]\n",
      "[1, 2]\n",
      "[3, 78]\n",
      "[0, 14]\n",
      "[3, 92]\n",
      "[3, 9]\n",
      "[1, 7]\n",
      "[3, 6]\n",
      "[2, -1]\n",
      "[3, 66]\n"
     ]
    }
   ],
   "source": [
    "d = {0: [[0, 14], [3, 92], [3, 9]], -1: [[1, 2], [3, 78]], -2: [[2, 3]], -3: [[3, 90]], 1: [[1, 7], [3, 6]], 2: [[2, -1]], 3: [[3, 66]]}\n",
    "print(type(d))\n",
    "for i in sorted(d.keys()):\n",
    "    for y in d[i]:\n",
    "        print(y)"
   ]
  },
  {
   "cell_type": "code",
   "execution_count": 235,
   "metadata": {},
   "outputs": [
    {
     "name": "stdout",
     "output_type": "stream",
     "text": [
      "{2: [[0, 24], [2, 56]], 1: [[2, 5]], 5: [[9, 79], [1, 45], [2, 40], [2, 32]]}\n",
      "\n",
      "\n",
      "[[0, 24], [2, 56]]\n",
      "[[2, 5]]\n",
      "[[1, 45], [2, 32], [2, 40], [9, 79]]\n"
     ]
    }
   ],
   "source": [
    "\n",
    " # Declaring hash function       \n",
    "key_value ={}     \n",
    "\n",
    "# Initializing the value  \n",
    "key_value[2] = [[0,24],[2,56]]       \n",
    "key_value[1] = [[2,5]] \n",
    "key_value[5] = [[9,79],[1,45],[2,40],[2,32]] \n",
    "#key_value[4] = 24\n",
    "#key_value[6] = 18      \n",
    "#key_value[3] = 323 \n",
    "print(key_value)\n",
    "print(\"\\n\")\n",
    "for i in key_value.keys():\n",
    "    print(sorted(key_value[i],key = lambda x:(x[0],x[1])))\n",
    "\n",
    "#print(sorted(key_value.items(), key=lambda x:(x[0],x[1])))\n",
    "\n"
   ]
  },
  {
   "cell_type": "code",
   "execution_count": 209,
   "metadata": {},
   "outputs": [
    {
     "name": "stdout",
     "output_type": "stream",
     "text": [
      "l1: ['Z', 'K', 'A', 'F', 'C']\n",
      "['A', 'C', 'F', 'K', 'Z']\n"
     ]
    },
    {
     "data": {
      "text/plain": [
       "['five', 'four', 'one', 'three', 'two']"
      ]
     },
     "execution_count": 209,
     "metadata": {},
     "output_type": "execute_result"
    }
   ],
   "source": [
    "l1 = [\"Z\",\"K\",\"A\",\"F\",\"C\"]\n",
    "x = sorted(l1)\n",
    "print(\"l1:\",l1)\n",
    "print(x)\n",
    "\n",
    "sorted({'one':1, 'two':2,'three':3,'four':4,'five':5})\n"
   ]
  },
  {
   "cell_type": "code",
   "execution_count": 243,
   "metadata": {},
   "outputs": [
    {
     "name": "stdout",
     "output_type": "stream",
     "text": [
      "x: 10\n",
      "<function num1.<locals>.num2 at 0x10c6b9b70>\n",
      "y: 5\n",
      "50\n"
     ]
    }
   ],
   "source": [
    "def num1(x):\n",
    "    print(\"x:\",x)\n",
    "    def num2(y):\n",
    "        print(\"y:\",y)\n",
    "        return x * y\n",
    "    return num2\n",
    "res = num1(10)\n",
    "print(res)\n",
    "\n",
    "print(res(5))"
   ]
  },
  {
   "cell_type": "code",
   "execution_count": 30,
   "metadata": {},
   "outputs": [
    {
     "name": "stdout",
     "output_type": "stream",
     "text": [
      "[[5], [4, 7, 0]]\n"
     ]
    }
   ],
   "source": [
    "#li = [5, 7, 22, 97, 54, 62, 77, 23, 73, 61] \n",
    "  \n",
    "#final_list = list(filter(lambda x: (x%2 != 0) , li)) \n",
    "#final = list(filter(lambda x:(x%2==0),li))\n",
    "#print(final)\n",
    "l = []\n",
    "x = True\n",
    "l.append([5])\n",
    "l.append([4,7])\n",
    "if x == True:\n",
    "    l[1].append(0)\n",
    "print(l)"
   ]
  },
  {
   "cell_type": "code",
   "execution_count": 32,
   "metadata": {},
   "outputs": [
    {
     "name": "stdout",
     "output_type": "stream",
     "text": [
      "[2, 3, 4]\n"
     ]
    }
   ],
   "source": [
    "var = [1,2,3,4]\n",
    "var.pop(0)\n",
    "print(var)\n",
    "#print(var[-1:])"
   ]
  },
  {
   "cell_type": "code",
   "execution_count": 28,
   "metadata": {},
   "outputs": [
    {
     "name": "stdout",
     "output_type": "stream",
     "text": [
      "True\n"
     ]
    }
   ],
   "source": [
    "numbers1 = [1, 2, 3] \n",
    "numbers2 = [1, 2, 3]\n",
    "print(numbers1 == numbers2)\n",
    "\n",
    "#total = list(map((lambda x,y:x+y),numbers1,numbers2))\n",
    "#print(total)"
   ]
  },
  {
   "cell_type": "code",
   "execution_count": 217,
   "metadata": {},
   "outputs": [
    {
     "name": "stdout",
     "output_type": "stream",
     "text": [
      "[5, 7, 22, 23, 54, 61, 62, 73, 77, 97]\n"
     ]
    }
   ],
   "source": [
    "l12 = [5, 7, 22, 97, 54, 62, 77, 23, 73, 61]\n",
    "newlist = sorted(l12)\n",
    "print(newlist)"
   ]
  },
  {
   "cell_type": "code",
   "execution_count": 222,
   "metadata": {},
   "outputs": [
    {
     "name": "stdout",
     "output_type": "stream",
     "text": [
      "{2: [[0, 24], [2, 56]], 1: [[2, 5]], 5: [[1, 45], [2, 40], [2, 32]]}\n",
      "\n",
      "\n",
      "(1, [[2, 5]])\n",
      "(2, [[0, 24], [2, 56]])\n",
      "(5, [[1, 45], [2, 40], [2, 32]])\n",
      "\n",
      "\n",
      "1\n",
      "2\n",
      "5\n"
     ]
    }
   ],
   "source": [
    "key_value ={}     \n",
    "\n",
    "# Initializing the value  \n",
    "key_value[2] = [[0,24],[2,56]]       \n",
    "key_value[1] = [[2,5]] \n",
    "key_value[5] = [[1,45],[2,40],[2,32]] \n",
    "print(key_value)\n",
    "print(\"\\n\")\n",
    "for i in sorted(key_value.items()):\n",
    "    print(i)\n",
    "print(\"\\n\")\n",
    "for j in sorted(key_value.keys()):\n",
    "    print(j)\n",
    "    "
   ]
  },
  {
   "cell_type": "code",
   "execution_count": 58,
   "metadata": {},
   "outputs": [
    {
     "name": "stdout",
     "output_type": "stream",
     "text": [
      "3 \n",
      "5 1 \n",
      "6 2 9 6 \n",
      "7 4 8 \n",
      "\n",
      "D: deque([7, 4, 8, None, 6, 2, 9, 6, None, 5, 1, None, 3]) level: 3\n",
      "result: [[7]]\n",
      "result: [[7, 4]]\n",
      "result: [[7, 4, 8]]\n",
      "result: [[7, 4, 8], [6]]\n",
      "result: [[7, 4, 8], [6, 2]]\n",
      "result: [[7, 4, 8], [6, 2, 9]]\n",
      "result: [[7, 4, 8], [6, 2, 9, 6]]\n",
      "result: [[7, 4, 8], [6, 2, 9, 6], [5]]\n",
      "result: [[7, 4, 8], [6, 2, 9, 6], [5, 1]]\n",
      "result: [[7, 4, 8], [6, 2, 9, 6], [5, 1], [3]]\n"
     ]
    }
   ],
   "source": [
    "import queue\n",
    "from collections import deque\n",
    "class Node():\n",
    "    \n",
    "    def __init__(self,data):\n",
    "        self.data = data\n",
    "        self.LeftChild = None\n",
    "        self.RightChild = None\n",
    "        \n",
    "def level_order_traversal(root):\n",
    "        \n",
    "        q = queue.Queue()\n",
    "        q.put(root)\n",
    "        q.put(None)\n",
    "        \n",
    "        while q.qsize() > 1:\n",
    "            \n",
    "            temp = q.get()\n",
    "            if temp != None:\n",
    "                print(temp.data,end= \" \")\n",
    "                if temp.LeftChild:\n",
    "                    q.put(temp.LeftChild)\n",
    "\n",
    "                if temp.RightChild:\n",
    "                    q.put(temp.RightChild)\n",
    "            else:\n",
    "                q.put(None)\n",
    "                print(end='\\n')\n",
    "\n",
    "        \n",
    "def levelOrderBottom(root):\n",
    "    \n",
    "    result = [[]]\n",
    "    if root == None:\n",
    "        return result\n",
    "        \n",
    "    q = []\n",
    "    q.append(root)\n",
    "    q.append(None)\n",
    "    level = 0\n",
    "    d = deque()\n",
    "        \n",
    "    while len(q) > 1:\n",
    "            \n",
    "        temp = q.pop(0)\n",
    "        if temp != None:\n",
    "            d.appendleft(temp.data)\n",
    "            #print(\"level:\",level,\"d:\",d)\n",
    "            if temp.RightChild:\n",
    "                q.append(temp.RightChild)\n",
    "                \n",
    "            if temp.LeftChild:\n",
    "                q.append(temp.LeftChild)  \n",
    "                \n",
    "        else:\n",
    "            q.append(None)\n",
    "            d.appendleft(None)\n",
    "            level += 1\n",
    "            \n",
    "    print(\"D:\",d,\"level:\",level) \n",
    "    ind = 0\n",
    "    while len(d) > 0:\n",
    "        var = d.popleft()\n",
    "        if var != None:\n",
    "            result[ind].append(var)\n",
    "            print(\"result:\",result)\n",
    "        else:\n",
    "            result.append([])\n",
    "            ind = ind + 1\n",
    "            \n",
    "            \n",
    "root1 = Node(3) \n",
    "root1.LeftChild = Node(5) \n",
    "root1.RightChild = Node(1) \n",
    "root1.LeftChild.LeftChild = Node(6) \n",
    "root1.LeftChild.RightChild = Node(2)\n",
    "root1.LeftChild.RightChild.LeftChild = Node(7)\n",
    "root1.LeftChild.RightChild.RightChild = Node(4)\n",
    "root1.RightChild.LeftChild = Node(9)\n",
    "root1.RightChild.RightChild = Node(6)\n",
    "root1.RightChild.RightChild.LeftChild = Node(8)\n",
    "level_order_traversal(root1)\n",
    "print(\"\\n\")\n",
    "levelOrderBottom(root1)"
   ]
  },
  {
   "cell_type": "code",
   "execution_count": 46,
   "metadata": {},
   "outputs": [
    {
     "name": "stdout",
     "output_type": "stream",
     "text": [
      "[[0, 1, 3], []]\n",
      "[[0, 1, 3], [10, 11, -1]]\n"
     ]
    }
   ],
   "source": [
    "l1=[]\n",
    "#level = 0\n",
    "l1[level].append(0)\n",
    "l1[level].append(1)\n",
    "l1[level].append(3)\n",
    "print(l1)\n",
    "#level = 1\n",
    "l1[level].append(10)\n",
    "l1[level].append(11)\n",
    "l1[level].append(-1)\n",
    "print(l1)"
   ]
  },
  {
   "cell_type": "code",
   "execution_count": 47,
   "metadata": {},
   "outputs": [
    {
     "name": "stdout",
     "output_type": "stream",
     "text": [
      "[]\n"
     ]
    }
   ],
   "source": [
    "l1 = [] * 4\n",
    "print(l1)"
   ]
  },
  {
   "cell_type": "code",
   "execution_count": null,
   "metadata": {},
   "outputs": [],
   "source": []
  }
 ],
 "metadata": {
  "kernelspec": {
   "display_name": "Python 3",
   "language": "python",
   "name": "python3"
  },
  "language_info": {
   "codemirror_mode": {
    "name": "ipython",
    "version": 3
   },
   "file_extension": ".py",
   "mimetype": "text/x-python",
   "name": "python",
   "nbconvert_exporter": "python",
   "pygments_lexer": "ipython3",
   "version": "3.6.8"
  }
 },
 "nbformat": 4,
 "nbformat_minor": 2
}
