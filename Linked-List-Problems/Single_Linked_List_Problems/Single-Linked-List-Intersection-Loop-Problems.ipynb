{
 "cells": [
  {
   "cell_type": "code",
   "execution_count": 35,
   "metadata": {},
   "outputs": [
    {
     "name": "stdout",
     "output_type": "stream",
     "text": [
      "1\n",
      "[1, 2, 3, 25, 11, 5, 27, 100]\n"
     ]
    }
   ],
   "source": [
    "class node:\n",
    "    \n",
    "    def __init__(self,data):\n",
    "        \n",
    "        self.data = data\n",
    "        self.Next = None\n",
    "    \n",
    "class linkedlist:\n",
    "    \n",
    "    def __init__(self,head=None):\n",
    "        \n",
    "        self.head = head\n",
    "        self.size = 0\n",
    "        \n",
    "    def add_node_in_the_beginning(self,val):\n",
    "        \n",
    "        newnode = node(val)\n",
    "        newnode.Next = self.head\n",
    "        self.head = newnode\n",
    "        self.size += 1\n",
    "        \n",
    "   ### Make a loop at kth position in linked list\n",
    "    def make_loop_at_kth_position(self,k):\n",
    "        \n",
    "        self.k = k\n",
    "        curr = self.head\n",
    "        if curr:\n",
    "            for i in range(0,k-1):\n",
    "                \n",
    "                temp = curr.Next\n",
    "                curr = curr.Next\n",
    "            print(\"temp:\",temp.data)\n",
    "            print(\"curr:\",curr.data)\n",
    "            while curr.Next != None:\n",
    "                \n",
    "                curr = curr.Next\n",
    "            curr.Next = temp\n",
    "            \n",
    "    ### Detect a loop in the linked list\n",
    "    ### Floyd's Cycle Method\n",
    "    \n",
    "    def detect_loop(self):\n",
    "        ##fast pointer: fp, slow pointer: sp\n",
    "        fp = self.head\n",
    "        sp = self.head\n",
    "    \n",
    "        while (sp and fp and fp.Next):\n",
    "            sp = sp.Next\n",
    "            fp = fp.Next.Next\n",
    "            if sp == fp:\n",
    "                print(\"Loop detected..\")\n",
    "                return sp\n",
    "        return None\n",
    "            \n",
    "        \n",
    "    ## Calculate the length of the loop in the linked list\n",
    "    def cal_loop_length(self):\n",
    "        ##temp1 hold sp,slowpointer\n",
    "        temp1 = self.detect_loop()\n",
    "        if temp1!= None:\n",
    "            \n",
    "            temp2 = temp1\n",
    "            count = 1\n",
    "            while temp2.Next != temp1:\n",
    "\n",
    "                temp2 = temp2.Next\n",
    "                count += 1\n",
    "            return count\n",
    "        else:\n",
    "            return 0\n",
    "    \n",
    "    ## Find the beginning node of the loop in linked list\n",
    "    \n",
    "    def start_node_of_the_loop(self):\n",
    "        \n",
    "        sp = self.head\n",
    "        fp = self.head\n",
    "        #curr = self.head\n",
    "        \n",
    "        while sp and fp and fp.Next:\n",
    "            \n",
    "            sp = sp.Next\n",
    "            fp = fp.Next.Next\n",
    "            \n",
    "            if sp == fp:\n",
    "                \n",
    "                sp = self.head\n",
    "                break\n",
    "                \n",
    "        while sp != fp:\n",
    "            fp = fp.Next\n",
    "            sp = sp.Next\n",
    "        return sp.data\n",
    "    \n",
    "    ## Remove loop from the linked list\n",
    "    def remove_loop(self):\n",
    "        \n",
    "        fp = self.head\n",
    "        sp = self.head\n",
    "        \n",
    "        while sp and fp and fp.Next:\n",
    "            \n",
    "            sp = sp.Next\n",
    "            fp = fp.Next.Next\n",
    "            \n",
    "            if sp == fp:\n",
    "                \n",
    "                sp = self.head\n",
    "                break\n",
    "        while sp.Next != fp.Next:\n",
    "            \n",
    "            sp = sp.Next\n",
    "            fp = fp.Next\n",
    "        fp.Next = None\n",
    "        \n",
    "                   \n",
    "        \n",
    "    def print_single_linked_list(self):\n",
    "        \n",
    "        curr = self.head\n",
    "        print(curr.data)\n",
    "        mylist = []\n",
    "        if self.head:\n",
    "            \n",
    "            while curr!= None:\n",
    "                \n",
    "                mylist.append(curr.data)\n",
    "                curr = curr.Next\n",
    "            print(mylist)\n",
    "            #print(\"Size of the list:\",self.traverse_linkedlist())\n",
    "        else:\n",
    "            print(\"The linked list is empty..\")\n",
    "\n",
    "        \n",
    "\n",
    "   \n",
    "\n",
    "    \n",
    "    \n",
    "l = linkedlist()\n",
    "l.add_node_in_the_beginning(100)\n",
    "l.add_node_in_the_beginning(27)\n",
    "l.add_node_in_the_beginning(5)\n",
    "l.add_node_in_the_beginning(11)\n",
    "l.add_node_in_the_beginning(25)\n",
    "l.add_node_in_the_beginning(3)\n",
    "l.add_node_in_the_beginning(2)\n",
    "l.add_node_in_the_beginning(1)\n",
    "l.print_single_linked_list()"
   ]
  },
  {
   "cell_type": "code",
   "execution_count": 36,
   "metadata": {},
   "outputs": [
    {
     "name": "stdout",
     "output_type": "stream",
     "text": [
      "temp: 25\n",
      "curr: 25\n"
     ]
    }
   ],
   "source": [
    "l.make_loop_at_kth_position(4)"
   ]
  },
  {
   "cell_type": "code",
   "execution_count": 41,
   "metadata": {},
   "outputs": [
    {
     "name": "stdout",
     "output_type": "stream",
     "text": [
      "None\n"
     ]
    }
   ],
   "source": [
    "print(l.detect_loop())"
   ]
  },
  {
   "cell_type": "code",
   "execution_count": 42,
   "metadata": {},
   "outputs": [
    {
     "data": {
      "text/plain": [
       "0"
      ]
     },
     "execution_count": 42,
     "metadata": {},
     "output_type": "execute_result"
    }
   ],
   "source": [
    "l.cal_loop_length()"
   ]
  },
  {
   "cell_type": "code",
   "execution_count": 39,
   "metadata": {},
   "outputs": [
    {
     "data": {
      "text/plain": [
       "25"
      ]
     },
     "execution_count": 39,
     "metadata": {},
     "output_type": "execute_result"
    }
   ],
   "source": [
    "l.start_node_of_the_loop()"
   ]
  },
  {
   "cell_type": "code",
   "execution_count": 40,
   "metadata": {},
   "outputs": [],
   "source": [
    "l.remove_loop()"
   ]
  },
  {
   "cell_type": "code",
   "execution_count": null,
   "metadata": {},
   "outputs": [],
   "source": []
  }
 ],
 "metadata": {
  "kernelspec": {
   "display_name": "Python 3",
   "language": "python",
   "name": "python3"
  },
  "language_info": {
   "codemirror_mode": {
    "name": "ipython",
    "version": 3
   },
   "file_extension": ".py",
   "mimetype": "text/x-python",
   "name": "python",
   "nbconvert_exporter": "python",
   "pygments_lexer": "ipython3",
   "version": "3.6.8"
  }
 },
 "nbformat": 4,
 "nbformat_minor": 2
}
