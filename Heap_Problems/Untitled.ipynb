{
 "cells": [
  {
   "cell_type": "code",
   "execution_count": 28,
   "metadata": {},
   "outputs": [
    {
     "name": "stdout",
     "output_type": "stream",
     "text": [
      "i: 0\n",
      "i: 1\n",
      "i: 2\n",
      "i: 3\n",
      "i: 4\n",
      "i: 5\n",
      "arr: [66, 21, 8, 7, 20, 4]\n"
     ]
    }
   ],
   "source": [
    "def buildMaxHeap(arr):  \n",
    "    n = len(arr)\n",
    "    for i in range(n): \n",
    "        print(\"i:\",i)  \n",
    "        # if child is bigger than parent  \n",
    "        if arr[i] > arr[int((i - 1) / 2)]: \n",
    "            j = i  \n",
    "      \n",
    "            # swap child and parent until parent is smaller  \n",
    "            while arr[j] > arr[int((j - 1) / 2)]: \n",
    "                (arr[j],arr[int((j - 1) / 2)]) = (arr[int((j - 1) / 2)],arr[j]) \n",
    "                j = int((j - 1) / 2)\n",
    "    print(\"arr:\",arr)\n",
    "buildMaxHeap([7,66,8,21,20,4])                \n",
    "#buildMaxHeap([12,77,4,99,35,67,1,90,7])    "
   ]
  },
  {
   "cell_type": "code",
   "execution_count": null,
   "metadata": {},
   "outputs": [],
   "source": []
  }
 ],
 "metadata": {
  "kernelspec": {
   "display_name": "Python 3",
   "language": "python",
   "name": "python3"
  },
  "language_info": {
   "codemirror_mode": {
    "name": "ipython",
    "version": 3
   },
   "file_extension": ".py",
   "mimetype": "text/x-python",
   "name": "python",
   "nbconvert_exporter": "python",
   "pygments_lexer": "ipython3",
   "version": "3.6.8"
  }
 },
 "nbformat": 4,
 "nbformat_minor": 2
}
