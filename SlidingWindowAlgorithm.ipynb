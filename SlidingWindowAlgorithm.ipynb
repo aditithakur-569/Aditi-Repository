{
 "cells": [
  {
   "cell_type": "code",
   "execution_count": 1,
   "metadata": {},
   "outputs": [],
   "source": [
    "#Level : Easy\n",
    "#Given an array of integers, find maximum sum subarray of the given size..."
   ]
  },
  {
   "cell_type": "code",
   "execution_count": 2,
   "metadata": {},
   "outputs": [],
   "source": [
    "#Level: Easy\n",
    "#Given an array of integers, find minimum sum subarray of the given size..."
   ]
  },
  {
   "cell_type": "code",
   "execution_count": null,
   "metadata": {},
   "outputs": [],
   "source": [
    "#Level: Medium\n",
    "#Given an array of positive numbers(not including 0),find the subarrays that add up to a given number(desired sum).\n",
    "#arr = [1,7,3,1,4,2,9] desired sum = 5"
   ]
  },
  {
   "cell_type": "code",
   "execution_count": null,
   "metadata": {},
   "outputs": [],
   "source": [
    "#Level: Medium\n",
    "#Given an array of numbers(including 0,positive,negative),find the subarrays that add up to a given number(desired sum).\n",
    "#arr = [1,7,3,-1,0,4,2,9] desired sum = 5"
   ]
  },
  {
   "cell_type": "code",
   "execution_count": null,
   "metadata": {},
   "outputs": [],
   "source": [
    "##Level: Medium\n",
    "##Given an array of 0's and 1's, find the maximum sequence of continuos 1's that can be formed by flipping at most \n",
    "## k 0's and 1's."
   ]
  },
  {
   "cell_type": "code",
   "execution_count": null,
   "metadata": {},
   "outputs": [],
   "source": [
    "##Level: Hard\n",
    "## Given a string and n characters, find the shortest substring that contains all the shorted substrings.\n",
    "## Example Input: fa4chba4c Desired substring = abc"
   ]
  },
  {
   "cell_type": "code",
   "execution_count": 36,
   "metadata": {},
   "outputs": [
    {
     "data": {
      "text/plain": [
       "'bdbdbbd'"
      ]
     },
     "execution_count": 36,
     "metadata": {},
     "output_type": "execute_result"
    }
   ],
   "source": [
    "## From TechieDelight\n",
    "## Find the longest substring of given string containing k distinct characters...\n",
    "## Given a string and positive number k, find the longest substring of the given string containing k distinct cha-\n",
    "## racters. If k is more than the number of distinct characters in the string, return the whole string.\n",
    "\n",
    "def LongestSubstring(str1, k):\n",
    "    \n",
    "    low = high = 0\n",
    "    begin = end = 0\n",
    "    window = set()\n",
    "    CharCount = {}\n",
    "    \n",
    "    while high < len(str1):\n",
    "        \n",
    "        window.add(str1[high])\n",
    "        \n",
    "        if str1[high] in CharCount:\n",
    "            CharCount[str1[high]] = CharCount[str1[high]] + 1\n",
    "        else:\n",
    "             CharCount[str1[high]] = 1\n",
    "        \n",
    "        while len(window) > k:\n",
    "            \n",
    "            CharCount[str1[low]] = CharCount[str1[low]] - 1\n",
    "            if CharCount[str1[low]] == 0:\n",
    "                window.remove(str1[low])\n",
    "                \n",
    "            low = low + 1\n",
    "            \n",
    "        if end - begin < high - low:\n",
    "            end = high\n",
    "            begin = low\n",
    "            \n",
    "        high = high + 1\n",
    "    return str1[begin:end+1]\n",
    "            \n",
    "            \n",
    "\n",
    "LongestSubstring(\"abcbdbdbbdcdabd\", 2)\n"
   ]
  },
  {
   "cell_type": "code",
   "execution_count": 44,
   "metadata": {},
   "outputs": [
    {
     "name": "stdout",
     "output_type": "stream",
     "text": [
      "ABCD\n",
      "ABDC\n",
      "ACBD\n",
      "ACDB\n",
      "ADCB\n",
      "ADBC\n",
      "BACD\n",
      "BADC\n",
      "BCAD\n",
      "BCDA\n",
      "BDCA\n",
      "BDAC\n",
      "CBAD\n",
      "CBDA\n",
      "CABD\n",
      "CADB\n",
      "CDAB\n",
      "CDBA\n",
      "DBCA\n",
      "DBAC\n",
      "DCBA\n",
      "DCAB\n",
      "DACB\n",
      "DABC\n"
     ]
    }
   ],
   "source": [
    "## Program to find permutations of the given string.\n",
    "### Extremely hard program to understand\n",
    "## Uses recursion and Backtracking...\n",
    "## Start Date: 16th Dec, 2020\n",
    "## End Date: 19th Dec,2020\n",
    "## Took this much time only to understand the problem\n",
    "def toString(List): \n",
    "    return ''.join(List) \n",
    "  \n",
    "# Function to print permutations of string \n",
    "# This function takes three parameters: \n",
    "# 1. String \n",
    "# 2. Starting index of the string \n",
    "# 3. Ending index of the string. \n",
    "def permute(a, l, r): \n",
    "    if l == r: \n",
    "        #print(\"base case:l:\",l,\"r:\",r)\n",
    "        print(toString(a)) \n",
    "    else: \n",
    "        for i in range(l, r + 1): \n",
    "            #print(\"i:\",i,\"left:\",l,\"arr:\",a,\"Range:\",range(l, r + 1))\n",
    "            a[l], a[i] = a[i], a[l]\n",
    "            #print(\"after swap:\",a)\n",
    "            permute(a, l + 1, r) \n",
    "            a[l], a[i] = a[i], a[l] # backtrack\n",
    "            #print(\"i-backtrack:\",i,\"a:\",a,\"l:\",l)\n",
    "  \n",
    "## Driver program to test the above function \n",
    "string = \"ABCD\"\n",
    "n = len(string) \n",
    "a = list(string) \n",
    "permute(a, 0, n-1) "
   ]
  },
  {
   "cell_type": "code",
   "execution_count": 43,
   "metadata": {},
   "outputs": [
    {
     "name": "stdout",
     "output_type": "stream",
     "text": [
      "ABCD\n",
      "ABDC\n",
      "ACBD\n",
      "ACDB\n",
      "ADBC\n",
      "ADCB\n",
      "BACD\n",
      "BADC\n",
      "BCAD\n",
      "BCDA\n",
      "BDAC\n",
      "BDCA\n",
      "CABD\n",
      "CADB\n",
      "CBAD\n",
      "CBDA\n",
      "CDAB\n",
      "CDBA\n",
      "DABC\n",
      "DACB\n",
      "DBAC\n",
      "DBCA\n",
      "DCAB\n",
      "DCBA\n"
     ]
    }
   ],
   "source": [
    "# Function to find permutations of a given string using built-in python functions\n",
    "from itertools import permutations \n",
    "  \n",
    "def allPermutations(str): \n",
    "       \n",
    "     # Get all permutations of string 'ABC' \n",
    "     permList = permutations(str)\n",
    "        #print(list(permList))\n",
    "  \n",
    "     # print all permutations \n",
    "     for perm in list(permList): \n",
    "            print (''.join(perm)) \n",
    "        \n",
    "# Driver program \n",
    "if __name__ == \"__main__\": \n",
    "    str = 'ABCD'\n",
    "    allPermutations(str) "
   ]
  },
  {
   "cell_type": "code",
   "execution_count": 67,
   "metadata": {},
   "outputs": [
    {
     "name": "stdout",
     "output_type": "stream",
     "text": [
      "slidwind: ['X', 'Y', 'Y']\n"
     ]
    }
   ],
   "source": [
    "##Find all substrings of a string that are permutations of given string.\n",
    "## Find all substrings of a string that contains all charactes of another string. In other words, find all the \n",
    "## substrings of first string that are anagrams of second string.\n",
    "\n",
    "#Example:\n",
    "## str1: \"XYYZXZYZXXYZ\"\n",
    "## str2: \"XYZ\"\n",
    "\n",
    "\n",
    "def findanagrams(str1,str2):\n",
    "    \n",
    "    N = len(str1)\n",
    "    M = len(str2)\n",
    "    slidwind = []\n",
    "    charCount = {}\n",
    "    end = begin = 0\n",
    "    high = low = 0\n",
    "    \n",
    "    for i in range(0,M):\n",
    "        \n",
    "        slidwind.append(str1[i])\n",
    "    print(\"slidwind:\",slidwind)\n",
    "    \n",
    "    for j in range(0,N):\n",
    "        \n",
    "        if j > M:\n",
    "            slidwind.append(str1[j])\n",
    "        else:\n",
    "            \n",
    "            \n",
    "    \n",
    "    \n",
    "\n",
    "        \n",
    "\n",
    "            \n",
    "findanagrams(\"XYYZXZYZXXYZ\",\"XYZ\")        "
   ]
  },
  {
   "cell_type": "code",
   "execution_count": 76,
   "metadata": {},
   "outputs": [
    {
     "ename": "TypeError",
     "evalue": "unhashable type: 'set'",
     "output_type": "error",
     "traceback": [
      "\u001b[0;31m---------------------------------------------------------------------------\u001b[0m",
      "\u001b[0;31mTypeError\u001b[0m                                 Traceback (most recent call last)",
      "\u001b[0;32m<ipython-input-76-e7fb91bbf05f>\u001b[0m in \u001b[0;36m<module>\u001b[0;34m()\u001b[0m\n\u001b[0;32m----> 1\u001b[0;31m \u001b[0mset1\u001b[0m \u001b[0;34m=\u001b[0m \u001b[0;34m{\u001b[0m\u001b[0mset\u001b[0m\u001b[0;34m(\u001b[0m\u001b[0;34m)\u001b[0m\u001b[0;34m}\u001b[0m\u001b[0;34m\u001b[0m\u001b[0;34m\u001b[0m\u001b[0m\n\u001b[0m\u001b[1;32m      2\u001b[0m \u001b[0mset2\u001b[0m \u001b[0;34m=\u001b[0m \u001b[0mset\u001b[0m\u001b[0;34m(\u001b[0m\u001b[0;34m)\u001b[0m\u001b[0;34m\u001b[0m\u001b[0;34m\u001b[0m\u001b[0m\n\u001b[1;32m      3\u001b[0m \u001b[0;34m\u001b[0m\u001b[0m\n\u001b[1;32m      4\u001b[0m \u001b[0mset1\u001b[0m\u001b[0;34m.\u001b[0m\u001b[0madd\u001b[0m\u001b[0;34m(\u001b[0m\u001b[0;34m\"A\"\u001b[0m\u001b[0;34m)\u001b[0m\u001b[0;34m\u001b[0m\u001b[0;34m\u001b[0m\u001b[0m\n\u001b[1;32m      5\u001b[0m \u001b[0mset1\u001b[0m\u001b[0;34m.\u001b[0m\u001b[0madd\u001b[0m\u001b[0;34m(\u001b[0m\u001b[0;34m\"B\"\u001b[0m\u001b[0;34m)\u001b[0m\u001b[0;34m\u001b[0m\u001b[0;34m\u001b[0m\u001b[0m\n",
      "\u001b[0;31mTypeError\u001b[0m: unhashable type: 'set'"
     ]
    }
   ],
   "source": [
    "set1 = {set(}\n",
    "set2 = set()\n",
    "\n",
    "set1.add(\"A\")\n",
    "set1.add(\"B\")\n",
    "set1.add(\"C\")\n",
    "set2.add(\"B\")\n",
    "set2.add(\"A\")\n",
    "set2.add(\"C\")\n",
    "print(set1,set2)\n",
    "if set1==set2:\n",
    "    print(\"Yay\")\n",
    "else:\n",
    "    print(\"Nay\")\n"
   ]
  },
  {
   "cell_type": "code",
   "execution_count": null,
   "metadata": {},
   "outputs": [],
   "source": []
  }
 ],
 "metadata": {
  "kernelspec": {
   "display_name": "Python 3",
   "language": "python",
   "name": "python3"
  },
  "language_info": {
   "codemirror_mode": {
    "name": "ipython",
    "version": 3
   },
   "file_extension": ".py",
   "mimetype": "text/x-python",
   "name": "python",
   "nbconvert_exporter": "python",
   "pygments_lexer": "ipython3",
   "version": "3.6.8"
  }
 },
 "nbformat": 4,
 "nbformat_minor": 2
}
